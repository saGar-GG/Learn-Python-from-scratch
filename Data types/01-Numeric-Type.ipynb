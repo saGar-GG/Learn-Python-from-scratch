{
 "cells": [
  {
   "cell_type": "markdown",
   "id": "6b8382db",
   "metadata": {},
   "source": [
    "# Python Numeric Types\n",
    "\n",
    "In Python, there are three main types of numbers: integers, floating-point numbers, and complex numbers. Here's a brief overview of each type:\n",
    "\n",
    "**1. Integers:** Integers are whole numbers, either positive or negative. In Python, integers have no size limit, so you can use them to represent very large or very small numbers. Here are some examples of integers:"
   ]
  },
  {
   "cell_type": "code",
   "execution_count": 1,
   "id": "60448738",
   "metadata": {},
   "outputs": [],
   "source": [
    "x = 10\n",
    "y = -5\n",
    "z = 1000000000000000000000000000000000000000000000000000000000"
   ]
  },
  {
   "cell_type": "markdown",
   "id": "10981fbe",
   "metadata": {},
   "source": [
    "**2. Floating-point Numbers:** Floating-point numbers are decimal numbers, either positive or negative. In Python, floating-point numbers are represented using the float type. Here are some examples of floating-point numbers:"
   ]
  },
  {
   "cell_type": "code",
   "execution_count": 3,
   "id": "f6b8df45",
   "metadata": {},
   "outputs": [],
   "source": [
    "x = 3.14\n",
    "y = -0.5\n",
    "z = 1.0e-5"
   ]
  },
  {
   "cell_type": "markdown",
   "id": "ce4a8f82",
   "metadata": {},
   "source": [
    "**3. Complex numbers:** Complex numbers are numbers with a real part and an imaginary part. In Python, complex numbers are represented using the complex type. Here are some examples of complex numbers:"
   ]
  },
  {
   "cell_type": "code",
   "execution_count": 4,
   "id": "6f5fccab",
   "metadata": {},
   "outputs": [],
   "source": [
    "x = 3 + 4j\n",
    "y = -1j\n",
    "z = complex(2, -3)"
   ]
  },
  {
   "cell_type": "markdown",
   "id": "8a2a315f",
   "metadata": {},
   "source": [
    "Now that we have an overview of the different types of numbers in Python, let's take a look at some common operations you might perform on them.\n",
    "\n",
    "## Arithmetic Operations\n",
    "\n",
    "You can perform arithmetic operations on numbers in Python, including addition, subtraction, multiplication, division, and exponentiation. Here are some examples:"
   ]
  },
  {
   "cell_type": "code",
   "execution_count": 6,
   "id": "99d7c4f3",
   "metadata": {},
   "outputs": [
    {
     "name": "stdout",
     "output_type": "stream",
     "text": [
      "13\n",
      "7\n",
      "30\n",
      "3.3333333333333335\n",
      "1000\n",
      "3\n",
      "0\n"
     ]
    }
   ],
   "source": [
    "x = 10\n",
    "y = 3\n",
    "\n",
    "print(x + y)\n",
    "print(x - y)\n",
    "print(x * y)\n",
    "print(x / y)\n",
    "print(x ** y)\n",
    "print(x // y)  # Floor Division\n",
    "print(x % 5)  # Modulo Oper"
   ]
  },
  {
   "cell_type": "markdown",
   "id": "0a9ffa1e",
   "metadata": {},
   "source": [
    "## Type Conversion\n",
    "\n",
    "You can convert numbers from one type to another in Python, using functions like int(), float(), and complex(). Here are some examples:"
   ]
  },
  {
   "cell_type": "code",
   "execution_count": 8,
   "id": "b2fc2233",
   "metadata": {},
   "outputs": [],
   "source": [
    "x = 10\n",
    "y = 3.14\n",
    "\n",
    "x = float(x)    # Convert x to a float\n",
    "y = int(y)      # Convert y to an integer\n",
    "z = complex(x, y)  # Create a complex number from x and y"
   ]
  },
  {
   "cell_type": "markdown",
   "id": "cf14e9b7",
   "metadata": {},
   "source": [
    "## Comparison Operators\n",
    "\n",
    "You can compare numbers in Python using comparison operators like <, >, <=, >=, ==, and !=. Here are some examples:"
   ]
  },
  {
   "cell_type": "code",
   "execution_count": 9,
   "id": "509b255d",
   "metadata": {},
   "outputs": [
    {
     "name": "stdout",
     "output_type": "stream",
     "text": [
      "True\n",
      "False\n"
     ]
    }
   ],
   "source": [
    "x = 10\n",
    "y = 5\n",
    "\n",
    "print(x > y)\n",
    "print(x == y)"
   ]
  },
  {
   "cell_type": "markdown",
   "id": "754e26e9",
   "metadata": {},
   "source": [
    "## Math Functions\n",
    "\n",
    "Python also provides a variety of math functions that you can use to perform more complex operations on numbers. Some of these functions include abs(), round(), min(), max(), pow(), sqrt(), and log(). Here are some examples:"
   ]
  },
  {
   "cell_type": "code",
   "execution_count": 10,
   "id": "bd387c20",
   "metadata": {},
   "outputs": [
    {
     "name": "stdout",
     "output_type": "stream",
     "text": [
      "5.5\n",
      "-6\n",
      "3\n",
      "8\n",
      "4.0\n",
      "2.302585092994046\n"
     ]
    }
   ],
   "source": [
    "import math\n",
    "\n",
    "x = -5.5\n",
    "\n",
    "print(abs(x))\n",
    "print(round(x))\n",
    "print(max(1, 2, 3))\n",
    "print(pow(2, 3))\n",
    "print(math.sqrt(16))\n",
    "print(math.log(10))"
   ]
  }
 ],
 "metadata": {
  "kernelspec": {
   "display_name": "Python 3 (ipykernel)",
   "language": "python",
   "name": "python3"
  },
  "language_info": {
   "codemirror_mode": {
    "name": "ipython",
    "version": 3
   },
   "file_extension": ".py",
   "mimetype": "text/x-python",
   "name": "python",
   "nbconvert_exporter": "python",
   "pygments_lexer": "ipython3",
   "version": "3.10.7"
  }
 },
 "nbformat": 4,
 "nbformat_minor": 5
}

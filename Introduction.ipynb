{
 "cells": [
  {
   "cell_type": "markdown",
   "id": "db56e717",
   "metadata": {},
   "source": [
    "# Python Install"
   ]
  },
  {
   "cell_type": "markdown",
   "id": "8ba8acee",
   "metadata": {},
   "source": [
    "C:\\Users\\Your Name>python3 --version"
   ]
  },
  {
   "cell_type": "code",
   "execution_count": 13,
   "id": "fc165dfe",
   "metadata": {},
   "outputs": [
    {
     "name": "stdout",
     "output_type": "stream",
     "text": [
      "Hello, World!\n"
     ]
    }
   ],
   "source": [
    "print(\"Hello, World!\")"
   ]
  },
  {
   "cell_type": "markdown",
   "id": "e28a8b8a",
   "metadata": {},
   "source": [
    "## Python Quickstart"
   ]
  },
  {
   "cell_type": "markdown",
   "id": "621d53a4",
   "metadata": {},
   "source": [
    "C:\\Users\\Your Name>python3 app.py"
   ]
  },
  {
   "cell_type": "markdown",
   "id": "8d93209e",
   "metadata": {},
   "source": [
    "# Invoking the Interpreter/ Python Command Line"
   ]
  },
  {
   "cell_type": "markdown",
   "id": "a4b48892",
   "metadata": {},
   "source": [
    "C:\\Users\\Your Name>python3"
   ]
  },
  {
   "cell_type": "markdown",
   "id": "56ec7b1a",
   "metadata": {},
   "source": [
    "$ python3.12  \n",
    "Python 3.12 (default, April 4 2022, 09:25:04)   \n",
    "[GCC 10.2.0] on linux   \n",
    "Type \"help\", \"copyright\", \"credits\" or \"license\" for more information. >>>'"
   ]
  },
  {
   "cell_type": "markdown",
   "id": "04d8cefa",
   "metadata": {},
   "source": [
    ">>> print(\"Hello, World!\")"
   ]
  },
  {
   "cell_type": "markdown",
   "id": "38ff39d2",
   "metadata": {},
   "source": [
    "## Using Python as a Calculator"
   ]
  },
  {
   "cell_type": "markdown",
   "id": "75ad10fe",
   "metadata": {},
   "source": [
    ">>> 2 + 2\n",
    "4\n",
    ">>> 50 - 5*6 20\n",
    ">>> (50 - 5*6) / 4\n",
    "5.0\n",
    ">>> 8 / 5 # division always returns a floating point number 1.6"
   ]
  },
  {
   "cell_type": "code",
   "execution_count": null,
   "id": "d19d0884",
   "metadata": {},
   "outputs": [],
   "source": [
    ">>> width = 20\n",
    ">>> height = 5 * 9 \n",
    ">>> width * height \n",
    "900"
   ]
  },
  {
   "cell_type": "code",
   "execution_count": null,
   "id": "f71e87c3",
   "metadata": {},
   "outputs": [],
   "source": [
    ">>> n # try to access an undefined variable Traceback (most recent call last):\n",
    "  File \"<stdin>\", line 1, in <module>\n",
    "NameError: name 'n' is not defined"
   ]
  },
  {
   "cell_type": "markdown",
   "id": "a5e7c1a4",
   "metadata": {},
   "source": [
    ">>> 4 * 3.75 - 1 14.0"
   ]
  },
  {
   "cell_type": "code",
   "execution_count": null,
   "id": "7bedd822",
   "metadata": {},
   "outputs": [],
   "source": [
    ">>> tax = 12.5 / 100 \n",
    ">>> price = 100.50 \n",
    ">>> price * tax \n",
    "12.5625\n",
    ">>> price + _ 113.0625\n",
    ">>> round(_, 2) \n",
    "113.06"
   ]
  },
  {
   "cell_type": "markdown",
   "id": "5b3b03fa",
   "metadata": {},
   "source": [
    "## Python variables\n",
    "In Python, variables are created when you assign a value to it:"
   ]
  },
  {
   "cell_type": "code",
   "execution_count": 27,
   "id": "a62e2d34",
   "metadata": {},
   "outputs": [],
   "source": [
    "x = 5\n",
    "y = \"Hello, World!\""
   ]
  },
  {
   "cell_type": "code",
   "execution_count": 28,
   "id": "e15c11b5",
   "metadata": {},
   "outputs": [
    {
     "name": "stdout",
     "output_type": "stream",
     "text": [
      "5\n",
      "Hello, World!\n"
     ]
    }
   ],
   "source": [
    "print(x)\n",
    "print(y)"
   ]
  },
  {
   "cell_type": "code",
   "execution_count": 29,
   "id": "e149e8c6",
   "metadata": {},
   "outputs": [
    {
     "name": "stdout",
     "output_type": "stream",
     "text": [
      "Sally\n"
     ]
    }
   ],
   "source": [
    "x = 4       # x is of type int\n",
    "x = \"Sally\" # x is now of type str\n",
    "print(x)"
   ]
  },
  {
   "cell_type": "markdown",
   "id": "dd614ffd",
   "metadata": {},
   "source": [
    "### Get the Type"
   ]
  },
  {
   "cell_type": "markdown",
   "id": "6a64b746",
   "metadata": {},
   "source": [
    "You can get the data type of a variable with the type() function."
   ]
  },
  {
   "cell_type": "code",
   "execution_count": 30,
   "id": "33f35db1",
   "metadata": {},
   "outputs": [
    {
     "name": "stdout",
     "output_type": "stream",
     "text": [
      "<class 'str'>\n",
      "<class 'str'>\n"
     ]
    }
   ],
   "source": [
    "print(type(x))\n",
    "print(type(y))"
   ]
  },
  {
   "cell_type": "markdown",
   "id": "b2760aea",
   "metadata": {},
   "source": [
    "If you want to specify the data type of a variable, this can be done with casting."
   ]
  },
  {
   "cell_type": "code",
   "execution_count": 19,
   "id": "d01e9879",
   "metadata": {},
   "outputs": [],
   "source": [
    "x = str(3)    # x will be '3'\n",
    "y = int(3)    # y will be 3\n",
    "z = float(3)  # z will be 3.0"
   ]
  },
  {
   "cell_type": "markdown",
   "id": "4287c18c",
   "metadata": {},
   "source": [
    "### Single or Double Quotes?"
   ]
  },
  {
   "cell_type": "code",
   "execution_count": 33,
   "id": "23c76339",
   "metadata": {},
   "outputs": [],
   "source": [
    "x = \"John\" # is the same as\n",
    "x = 'John'"
   ]
  },
  {
   "cell_type": "markdown",
   "id": "6aecd9ca",
   "metadata": {},
   "source": [
    "### Variable names are case-sensitive."
   ]
  },
  {
   "cell_type": "code",
   "execution_count": 35,
   "id": "9e4c538e",
   "metadata": {},
   "outputs": [],
   "source": [
    "a = 4\n",
    "A = \"Sally\"\n",
    "#A will not overwrite a"
   ]
  },
  {
   "cell_type": "markdown",
   "id": "84d2d148",
   "metadata": {},
   "source": [
    "### Illegal variable names:"
   ]
  },
  {
   "cell_type": "code",
   "execution_count": 36,
   "id": "29c4adc4",
   "metadata": {},
   "outputs": [
    {
     "ename": "SyntaxError",
     "evalue": "invalid decimal literal (2185399839.py, line 1)",
     "output_type": "error",
     "traceback": [
      "\u001b[0;36m  Cell \u001b[0;32mIn[36], line 1\u001b[0;36m\u001b[0m\n\u001b[0;31m    2myvar = \"John\"\u001b[0m\n\u001b[0m    ^\u001b[0m\n\u001b[0;31mSyntaxError\u001b[0m\u001b[0;31m:\u001b[0m invalid decimal literal\n"
     ]
    }
   ],
   "source": [
    "2myvar = \"John\"\n",
    "my-var = \"John\"\n",
    "my var = \"John\""
   ]
  },
  {
   "cell_type": "markdown",
   "id": "f847e095",
   "metadata": {},
   "source": [
    "### Multi Words Variable Names\n",
    "Camel Case   \n",
    "Pascal Case   \n",
    "Snake Case"
   ]
  },
  {
   "cell_type": "code",
   "execution_count": 39,
   "id": "e6f1a58b",
   "metadata": {},
   "outputs": [],
   "source": [
    "myVariableName = \"John\"\n",
    "MyVariableName = \"John\"\n",
    "my_variable_name = \"John\""
   ]
  },
  {
   "cell_type": "markdown",
   "id": "1a1dc1f9",
   "metadata": {},
   "source": [
    "### Assign Multiple Values"
   ]
  },
  {
   "cell_type": "code",
   "execution_count": 40,
   "id": "2fd6df9b",
   "metadata": {},
   "outputs": [
    {
     "name": "stdout",
     "output_type": "stream",
     "text": [
      "Orange\n",
      "Banana\n",
      "Cherry\n"
     ]
    }
   ],
   "source": [
    "x, y, z = \"Orange\", \"Banana\", \"Cherry\"\n",
    "print(x)\n",
    "print(y)\n",
    "print(z)"
   ]
  },
  {
   "cell_type": "code",
   "execution_count": 41,
   "id": "fa304e5e",
   "metadata": {},
   "outputs": [
    {
     "name": "stdout",
     "output_type": "stream",
     "text": [
      "OrangeBananaCherry\n"
     ]
    }
   ],
   "source": [
    "print(x + y + z)\n"
   ]
  },
  {
   "cell_type": "markdown",
   "id": "853ac172",
   "metadata": {},
   "source": [
    "#### But, In the print() function, when you try to combine a string and a number with the + operator, Python will give you an error:"
   ]
  },
  {
   "cell_type": "code",
   "execution_count": 42,
   "id": "6353ce6e",
   "metadata": {},
   "outputs": [
    {
     "ename": "TypeError",
     "evalue": "unsupported operand type(s) for +: 'int' and 'str'",
     "output_type": "error",
     "traceback": [
      "\u001b[0;31m---------------------------------------------------------------------------\u001b[0m",
      "\u001b[0;31mTypeError\u001b[0m                                 Traceback (most recent call last)",
      "Cell \u001b[0;32mIn[42], line 3\u001b[0m\n\u001b[1;32m      1\u001b[0m x \u001b[38;5;241m=\u001b[39m \u001b[38;5;241m5\u001b[39m\n\u001b[1;32m      2\u001b[0m y \u001b[38;5;241m=\u001b[39m \u001b[38;5;124m\"\u001b[39m\u001b[38;5;124mJohn\u001b[39m\u001b[38;5;124m\"\u001b[39m\n\u001b[0;32m----> 3\u001b[0m \u001b[38;5;28mprint\u001b[39m(\u001b[43mx\u001b[49m\u001b[43m \u001b[49m\u001b[38;5;241;43m+\u001b[39;49m\u001b[43m \u001b[49m\u001b[43my\u001b[49m)\n",
      "\u001b[0;31mTypeError\u001b[0m: unsupported operand type(s) for +: 'int' and 'str'"
     ]
    }
   ],
   "source": [
    "x = 5\n",
    "y = \"John\"\n",
    "print(x + y)"
   ]
  },
  {
   "cell_type": "code",
   "execution_count": 43,
   "id": "f21349cf",
   "metadata": {},
   "outputs": [
    {
     "name": "stdout",
     "output_type": "stream",
     "text": [
      "5 John\n"
     ]
    }
   ],
   "source": [
    "x = 5\n",
    "y = \"John\"\n",
    "print(x, y)"
   ]
  }
 ],
 "metadata": {
  "kernelspec": {
   "display_name": "Python 3 (ipykernel)",
   "language": "python",
   "name": "python3"
  },
  "language_info": {
   "codemirror_mode": {
    "name": "ipython",
    "version": 3
   },
   "file_extension": ".py",
   "mimetype": "text/x-python",
   "name": "python",
   "nbconvert_exporter": "python",
   "pygments_lexer": "ipython3",
   "version": "3.10.7"
  }
 },
 "nbformat": 4,
 "nbformat_minor": 5
}

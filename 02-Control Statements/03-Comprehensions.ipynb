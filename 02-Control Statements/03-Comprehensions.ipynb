{
 "cells": [
  {
   "cell_type": "markdown",
   "id": "f818ca2e-474f-4eb9-a34c-9cca64dd1b4c",
   "metadata": {},
   "source": [
    "# Python Comprehensions\n",
    "\n",
    "In Python, comprehensions provide a concise way to create sequences like lists, dictionaries, and sets. They are a more readable and often more efficient alternative to using traditional loops to generate sequences.\n",
    "\n",
    "There are three types of comprehensions in Python: list comprehensions, dictionary comprehensions, and set comprehensions.\n",
    "\n",
    "## 1. List Comprehensions\n",
    "\n",
    "In Python, list comprehension is a concise way to create lists. It provides a compact syntax for mapping a given iterable (e.g. list, tuple) to a new list by applying a specific expression to each element in the original iterable.\n",
    "\n",
    "The basic syntax of a list comprehension is as follows:\n",
    "\n",
    "```python\n",
    "new_list = [expression for item in iterable if condition]\n",
    "```\n",
    "\n",
    "In this syntax, `expression` is the operation to be performed on each item in the iterable, `item` is the variable that represents each element in the iterable, and `condition` is an optional filter that can be applied to select only certain elements from the iterable.\n",
    "\n",
    "Here is an example that creates a new list of squared numbers from an existing list:"
   ]
  },
  {
   "cell_type": "code",
   "execution_count": 1,
   "id": "8a3998ac-6724-430c-8aa3-32fa6060a59f",
   "metadata": {},
   "outputs": [
    {
     "name": "stdout",
     "output_type": "stream",
     "text": [
      "[1, 4, 9, 16, 25]\n"
     ]
    }
   ],
   "source": [
    "numbers = [1, 2, 3, 4, 5]\n",
    "squares = [num ** 2 for num in numbers]\n",
    "print(squares)"
   ]
  },
  {
   "cell_type": "markdown",
   "id": "d5aa5032-d381-41fc-8d10-03cc41c3270f",
   "metadata": {},
   "source": [
    "In this example, the expression `num ** 2` is applied to each element in the `numbers` list, and the results are stored in a new list called `squares`.\n",
    "\n",
    "You can also add an optional condition to the list comprehension. For example, here is a list comprehension that filters out even numbers from the original list:"
   ]
  },
  {
   "cell_type": "code",
   "execution_count": 2,
   "id": "6705f765-bfce-48ee-a392-c4e099391d32",
   "metadata": {},
   "outputs": [
    {
     "name": "stdout",
     "output_type": "stream",
     "text": [
      "[1, 3, 5]\n"
     ]
    }
   ],
   "source": [
    "numbers = [1, 2, 3, 4, 5]\n",
    "odds = [num for num in numbers if num % 2 != 0]\n",
    "print(odds)"
   ]
  },
  {
   "cell_type": "markdown",
   "id": "7714fdd2-86e4-4f60-b5c8-299b964db3c5",
   "metadata": {},
   "source": [
    "In this example, the condition `if num % 2 != 0` filters out the even numbers from the original `numbers` list, and the remaining odd numbers are stored in the new `odds` list.\n",
    "\n",
    "List comprehensions can also be nested, allowing you to create more complex sequences. Here is an example that creates a list of tuples:"
   ]
  },
  {
   "cell_type": "code",
   "execution_count": 3,
   "id": "12fabe7a-3c39-4bf3-bdfe-9d67959db3ac",
   "metadata": {},
   "outputs": [
    {
     "name": "stdout",
     "output_type": "stream",
     "text": [
      "[('a', 1), ('a', 2), ('a', 3), ('b', 1), ('b', 2), ('b', 3), ('c', 1), ('c', 2), ('c', 3)]\n"
     ]
    }
   ],
   "source": [
    "letters = ['a', 'b', 'c']\n",
    "numbers = [1, 2, 3]\n",
    "pairs = [(letter, number) for letter in letters for number in numbers]\n",
    "print(pairs)"
   ]
  },
  {
   "cell_type": "markdown",
   "id": "da66e785-cf3d-484e-9356-dd36d7731fff",
   "metadata": {},
   "source": [
    "In this example, the list comprehension uses two `for` loops to create pairs of letters and numbers. The resulting `pairs` list contains all possible combinations of letters and number"
   ]
  },
  {
   "cell_type": "markdown",
   "id": "59c630df-7815-4689-b7b5-fd74068de80f",
   "metadata": {},
   "source": [
    "## 2. Dictionary Comprehension\n",
    "\n",
    "In Python, dictionary comprehension is a concise way to create a new dictionary by transforming an existing iterable (such as a list or tuple) into key-value pairs. It provides a compact syntax for mapping a given iterable to a new dictionary by applying a specific expression to each element in the iterable.\n",
    "\n",
    "The basic syntax of a dictionary comprehension is as follows:\n",
    "\n",
    "```python\n",
    "new_dict = {key_expression: value_expression for item in iterable if condition}\n",
    "```\n",
    "\n",
    "In this syntax, `key_expression` is the expression that generates the key for the dictionary, `value_expression` is the expression that generates the value for the dictionary, `item` is the variable that represents each element in the iterable, and `condition` is an optional filter that can be applied to select only certain elements from the iterable.\n",
    "\n",
    "Here is an example that creates a new dictionary of squared numbers from an existing list:"
   ]
  },
  {
   "cell_type": "code",
   "execution_count": 4,
   "id": "b1150371-7d58-4c40-9c94-808239485668",
   "metadata": {},
   "outputs": [
    {
     "name": "stdout",
     "output_type": "stream",
     "text": [
      "{1: 1, 3: 9, 5: 25}\n"
     ]
    }
   ],
   "source": [
    "numbers = [1, 2, 3, 4, 5]\n",
    "odds_dict = {num: num ** 2 for num in numbers if num % 2 != 0}\n",
    "print(odds_dict)"
   ]
  },
  {
   "cell_type": "markdown",
   "id": "cb1ba632-d4b3-412b-bf89-48218343232b",
   "metadata": {},
   "source": [
    "In this example, the key expression `num` generates the key for each item in the new dictionary, the value expression `num ** 2` generates the corresponding value for each key and the condition `if num % 2 != 0` filters out the even numbers from the original `numbers` list, and the remaining odd numbers are stored in the new dictionary.\n",
    "\n",
    "Dictionary comprehensions can also be nested, allowing you to create more complex dictionaries. Here is an example that creates a dictionary of letter-counts:"
   ]
  },
  {
   "cell_type": "code",
   "execution_count": 5,
   "id": "69716dea-e1e8-42ae-8794-5d401642d8aa",
   "metadata": {},
   "outputs": [
    {
     "name": "stdout",
     "output_type": "stream",
     "text": [
      "{'e': 1, 'o': 1, 'l': 2, 'h': 1}\n"
     ]
    }
   ],
   "source": [
    "word = 'hello'\n",
    "letter_counts = {letter: word.count(letter) for letter in set(word)}\n",
    "print(letter_counts)"
   ]
  },
  {
   "cell_type": "markdown",
   "id": "5a117fa2-a74e-4743-920d-689510ab5556",
   "metadata": {},
   "source": [
    "In this example, the list comprehension uses a set of unique letters from the `word` string to create the keys of the new dictionary, and the `count()` method is used to generate the corresponding values for each ke"
   ]
  },
  {
   "cell_type": "markdown",
   "id": "54d84f3a-70b0-4efe-b9e8-f0b4529c4b40",
   "metadata": {},
   "source": [
    "## 3. Set Comprehension\n",
    "\n",
    "Set comprehension is a concise way to create a new set by transforming an existing iterable (such as a list or tuple). It provides a compact syntax for mapping a given iterable to a new set by applying a specific expression to each element in the iterable.\n",
    "\n",
    "The basic syntax of a set comprehension is as follows:\n",
    "\n",
    "```python\n",
    "new_set = {expression for item in iterable if condition}\n",
    "```\n",
    "\n",
    "In this syntax, `expression` is the operation to be performed on each item in the iterable, `item` is the variable that represents each element in the iterable, and `condition` is an optional filter that can be applied to select only certain elements from the iterable.\n",
    "\n",
    "Here is an example that creates a new set of squared numbers from an existing list:"
   ]
  },
  {
   "cell_type": "code",
   "execution_count": 6,
   "id": "5ee86556-f379-4433-9929-deb2786a5023",
   "metadata": {},
   "outputs": [
    {
     "name": "stdout",
     "output_type": "stream",
     "text": [
      "{1, 9, 25}\n"
     ]
    }
   ],
   "source": [
    "numbers = [1, 2, 3, 4, 5]\n",
    "odds_set = {num ** 2 for num in numbers if num % 2 != 0}\n",
    "print(odds_set)"
   ]
  },
  {
   "cell_type": "markdown",
   "id": "2a159bbc-7745-459d-8aa5-4d5cf4be94de",
   "metadata": {},
   "source": [
    "In this example, the expression `num ** 2` is applied to each element in the `numbers` list, and the results are stored in a new set called `squares_set`, and  the condition `if num % 2 != 0` filters out the even numbers from the original `numbers` list, and the remaining odd numbers are stored in the new `odds_set`.\n",
    "\n",
    "Set comprehensions can also be nested, allowing you to create more complex sets. Here is an example that creates a set of all possible combinations of two letters:"
   ]
  },
  {
   "cell_type": "code",
   "execution_count": 7,
   "id": "0f7a1c2d-6630-4842-897b-9c45ee23b4f4",
   "metadata": {},
   "outputs": [
    {
     "name": "stdout",
     "output_type": "stream",
     "text": [
      "{'ac', 'aa', 'bb', 'ab', 'cb', 'bc', 'ca', 'ba', 'cc'}\n"
     ]
    }
   ],
   "source": [
    "letters = {'a', 'b', 'c'}\n",
    "pairs = {letter1 + letter2 for letter1 in letters for letter2 in letters}\n",
    "print(pairs)"
   ]
  },
  {
   "cell_type": "markdown",
   "id": "1b62cca3-0a87-42ad-9660-aba4f1a9abdc",
   "metadata": {},
   "source": [
    "In this example, the set comprehension uses two `for` loops to create pairs of letters. The resulting `pairs` set contains all possible combinations of two letters."
   ]
  }
 ],
 "metadata": {
  "kernelspec": {
   "display_name": "Python 3 (ipykernel)",
   "language": "python",
   "name": "python3"
  },
  "language_info": {
   "codemirror_mode": {
    "name": "ipython",
    "version": 3
   },
   "file_extension": ".py",
   "mimetype": "text/x-python",
   "name": "python",
   "nbconvert_exporter": "python",
   "pygments_lexer": "ipython3",
   "version": "3.12.0"
  }
 },
 "nbformat": 4,
 "nbformat_minor": 5
}

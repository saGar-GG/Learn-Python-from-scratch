{
 "cells": [
  {
   "cell_type": "markdown",
   "id": "4ac8bd4e-34c7-4fea-bf4f-65b24a7cd2ec",
   "metadata": {},
   "source": [
    "# Python Lambda Expressions\n",
    "\n",
    "In Python, a lambda expression is a way to create a small, anonymous function without using the def keyword. Lambda expressions are useful for writing simple functions that can be passed as arguments to other functions. The general syntax for a lambda expression is as follows:\n",
    "\n",
    "```python\n",
    "lambda arguments: expression\n",
    "```\n",
    "\n",
    "In this syntax, `arguments` is a comma-separated list of input arguments, and `expression` is a single expression that is evaluated and returned as the output of the function. The resulting lambda function can be assigned to a variable, or passed as an argument to another function.\n",
    "\n",
    "Here's an example that demonstrates how to define a lambda function that takes two arguments and returns their sum:"
   ]
  },
  {
   "cell_type": "code",
   "execution_count": 1,
   "id": "bcf9cb73-2429-4648-8cf4-2c366a87beca",
   "metadata": {},
   "outputs": [
    {
     "name": "stdout",
     "output_type": "stream",
     "text": [
      "8\n"
     ]
    }
   ],
   "source": [
    "sum = lambda a, b: a + b\n",
    "result = sum(3, 5)\n",
    "print(result)"
   ]
  },
  {
   "cell_type": "markdown",
   "id": "369032f0-dce9-43ea-8778-ef97a06953cf",
   "metadata": {},
   "source": [
    "In this example, we define a `lambda` function called `sum` that takes two arguments `a` and `b`, and returns their sum. We then call the `lambda` function with arguments `3` and `5` and store the result in a variable called `result`. Finally, we print the value of result.\n",
    "\n",
    "Lambda expressions are often used in combination with other built-in functions such as `map()`, `filter()`, and `reduce()`. For example, here's how we can use a `lambda` expression with the `map()` function to compute the square of each element in a list:"
   ]
  },
  {
   "cell_type": "code",
   "execution_count": 2,
   "id": "acd57cae-3548-4d0d-bb04-5426004a407a",
   "metadata": {},
   "outputs": [
    {
     "name": "stdout",
     "output_type": "stream",
     "text": [
      "[1, 4, 9, 16, 25]\n"
     ]
    }
   ],
   "source": [
    "numbers = [1, 2, 3, 4, 5]\n",
    "squares = list(map(lambda x: x**2, numbers))\n",
    "print(squares)"
   ]
  },
  {
   "cell_type": "markdown",
   "id": "3ea5486b-3415-4982-baa0-7c17cc5c6fcd",
   "metadata": {},
   "source": [
    "In this example, we define a list of numbers, and then use the `map()` function to apply a lambda function that computes the square of each element in the list. The resulting map object is then converted to a list using the `list()` function, and the resulting list of squares is printed to the console.\n",
    "\n",
    "Lambda expressions are a powerful tool in Python for writing concise, one-time use functions. However, they should be used judiciously, and more complex functions should be defined using the `def` keyword for readability and maintainability."
   ]
  }
 ],
 "metadata": {
  "kernelspec": {
   "display_name": "Python 3 (ipykernel)",
   "language": "python",
   "name": "python3"
  },
  "language_info": {
   "codemirror_mode": {
    "name": "ipython",
    "version": 3
   },
   "file_extension": ".py",
   "mimetype": "text/x-python",
   "name": "python",
   "nbconvert_exporter": "python",
   "pygments_lexer": "ipython3",
   "version": "3.12.0"
  }
 },
 "nbformat": 4,
 "nbformat_minor": 5
}

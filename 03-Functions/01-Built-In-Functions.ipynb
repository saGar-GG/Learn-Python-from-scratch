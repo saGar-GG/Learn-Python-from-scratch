{
 "cells": [
  {
   "cell_type": "markdown",
   "id": "30ba7e09-d292-4671-9bf9-036a791cbf38",
   "metadata": {},
   "source": [
    "# Python Built-In Functions\n",
    "\n",
    "Python provides a large number of built-in functions that can be used to perform common tasks in your code. If you want to go through all the built-in functions available wiht python [visit this page](https://docs.python.org/3/library/functions.html). Here are some of the most commonly used built-in functions in Python.\n",
    "\n",
    "## print()\n",
    "\n",
    "In Python, the `print()` function is used to output text or values to the console. It can be used to display text messages, variable values, or the results of calculations, among other things. In addition to this `print()` function can be customized with various arguments like:\n",
    "\n",
    "- `sep:` Used to specify the separator between multiple items being printed. The default separator is a space character. For example, print(\"x\", \"y\", sep=\"-\") would output x-y.\n",
    "- `end:` Used to specify the string that should be printed at the end of the line. The default is a newline character (\"\\n\"). For example, print(\"x\", end=\".\") would output x. without moving to the next line.\n",
    "- `file:` Used to specify the file object where the output should be directed. By default, the output is sent to the console. For example, print(\"x\", file=my_file) would write the output to the my_file file object.\n",
    "\n",
    "Here are some examples of how to use the `print()` function in Python:"
   ]
  },
  {
   "cell_type": "code",
   "execution_count": 1,
   "id": "61047f53-b67e-410d-b646-ad25378f317d",
   "metadata": {},
   "outputs": [
    {
     "name": "stdout",
     "output_type": "stream",
     "text": [
      "The value of y is: 10\n",
      "x is 5 and y is 10\n",
      "The value of x is 5 and the value of y is 10\n",
      "The value of x is 5 and the value of y is 10\n",
      "Hello-World\n",
      "Hello World.How are you doing?\n"
     ]
    }
   ],
   "source": [
    "x = 5\n",
    "y = x * 2\n",
    "print(\"The value of y is:\", y)   # Printing a variable value\n",
    "print(\"x is\", x, \"and y is\", y)  # Printing multiple items using commas to separate them\n",
    "print(\"The value of x is {} and the value of y is {}\".format(x, y)) # Using string formatting\n",
    "print(f\"The value of x is {x} and the value of y is {y}\")  # Using f-strings\n",
    "print(\"Hello\", \"World\", sep=\"-\")  # Using Seperator\n",
    "print(\"Hello World\", end=\".\") # Defining End of line\n",
    "print(\"How are you doing?\")"
   ]
  },
  {
   "cell_type": "markdown",
   "id": "38426bf1-291c-443f-a17c-82f56c2b1e44",
   "metadata": {},
   "source": [
    "## type()\n",
    "\n",
    "In Python, the `type()` function is used to find the data type of a variable or expression. It returns the type of the object as a string.\n",
    "\n",
    "Here are some examples of how to use the `type()` function in Python:"
   ]
  },
  {
   "cell_type": "code",
   "execution_count": 2,
   "id": "f676a3c2-804d-4c96-87bd-55999652ed36",
   "metadata": {},
   "outputs": [
    {
     "name": "stdout",
     "output_type": "stream",
     "text": [
      "<class 'int'>\n",
      "<class 'float'>\n",
      "<class 'str'>\n",
      "<class 'bool'>\n",
      "<class 'list'>\n",
      "<class 'dict'>\n"
     ]
    }
   ],
   "source": [
    "print(type(5))                           # Output: <class 'int'>\n",
    "print(type(3.14))                        # Output: <class 'float'>\n",
    "print(type(\"Hello, World!\"))             # Output: <class 'str'>\n",
    "print(type(True))                        # Output: <class 'bool'>\n",
    "print(type([1, 2, 3]))                   # Output: <class 'list'>\n",
    "print(type({\"name\": \"John\", \"age\": 30})) # Output: <class 'dict'>"
   ]
  },
  {
   "cell_type": "markdown",
   "id": "d35cb57c-593b-4408-9ac6-a8967282d0a2",
   "metadata": {},
   "source": [
    "## input()\n",
    "\n",
    "In Python, the input() function is used to accept input from the user. It prompts the user to enter a value, and then returns the entered value as a string.\n",
    "\n",
    "Note that the `input()` function always returns a string, so you may need to convert the entered value to another data type if you need to use it as a number or other data type. For example, if you want to accept a number as input, you can convert the entered value to an integer using the `int()` function:"
   ]
  },
  {
   "cell_type": "code",
   "execution_count": 3,
   "id": "f400bb1c-3c79-4084-942a-55e0f780d2f4",
   "metadata": {},
   "outputs": [
    {
     "name": "stdin",
     "output_type": "stream",
     "text": [
      "What is your name?  Sagar\n"
     ]
    },
    {
     "name": "stdout",
     "output_type": "stream",
     "text": [
      "Hello, Sagar!\n"
     ]
    },
    {
     "name": "stdin",
     "output_type": "stream",
     "text": [
      "What is your age? 20\n"
     ]
    },
    {
     "name": "stdout",
     "output_type": "stream",
     "text": [
      "Sagar you are 20 years old!\n"
     ]
    }
   ],
   "source": [
    "name = input(\"What is your name? \")\n",
    "print(\"Hello, \" + name + \"!\")\n",
    "\n",
    "age = int(input(\"What is your age?\"))  # Converting input str to int type\n",
    "print(name, \"you are\", str(age), \"years old!\")"
   ]
  },
  {
   "cell_type": "markdown",
   "id": "c4d5a5f5-6305-48a1-aa0e-cdd7d9ef4ea8",
   "metadata": {},
   "source": [
    "## len()\n",
    "\n",
    "In Python, the `len()` function is used to get the length of a sequence or collection, such as a `str, list, tuple, or dict`. It returns the number of elements or characters in the sequence.\n",
    "\n",
    "Note that the `len()` function only works with sequences and collections that have a defined length. It cannot be used with other types of data, such as numbers or booleans."
   ]
  },
  {
   "cell_type": "code",
   "execution_count": 4,
   "id": "7ec84142-431e-466c-b9cd-c3cb6c0a79e7",
   "metadata": {},
   "outputs": [
    {
     "name": "stdout",
     "output_type": "stream",
     "text": [
      "13\n",
      "5\n",
      "5\n",
      "2\n"
     ]
    }
   ],
   "source": [
    "my_string = \"Hello, world!\"  # Get the length of a string\n",
    "print(len(my_string))        # Output: 13\n",
    "\n",
    "my_list = [1, 2, 3, 4, 5]    # Get the length of a list\n",
    "print(len(my_list))          # Output: 5\n",
    "\n",
    "my_tuple = (1, 2, 3, 4, 5)   # Get the length of a tuple\n",
    "print(len(my_tuple))         # Output: 5\n",
    "\n",
    "my_dict = {\"apple\": 1, \"banana\": 2}  # Get the length of a dictionary\n",
    "print(len(my_dict))                  # Output: 2"
   ]
  },
  {
   "cell_type": "markdown",
   "id": "60deb6e0-b41f-455f-83eb-dd493ec4b900",
   "metadata": {},
   "source": [
    "## open()\n",
    "\n",
    "In Python, the `open()` function is used to open a file and return a file object. This file object can be used to read or write data to the file. Once the file is open, the `read()` function is called on the file object to read the contents of the file into a string variable, by specifying the mode as `\"r\"` (read). It's important to remember to close the file after you're done working with it. This is done using the `close()` function on the file object."
   ]
  },
  {
   "cell_type": "code",
   "execution_count": 6,
   "id": "9edf07cf-0db7-4727-b2b8-28079c1e8d21",
   "metadata": {},
   "outputs": [
    {
     "name": "stdout",
     "output_type": "stream",
     "text": [
      "This is a read file to read data from.\n"
     ]
    }
   ],
   "source": [
    "file = open(\"read.txt\", \"r\")  # Open a file for reading\n",
    "contents = file.read()        # Read the contents of the file\n",
    "print(contents)               # Print the contents of the file\n",
    "file.close()                  # Close the file"
   ]
  },
  {
   "cell_type": "markdown",
   "id": "63c1c8e9-ef3d-416b-a18d-d388089e133d",
   "metadata": {},
   "source": [
    "You can also use the `open()` function to open a file for writing, by specifying the mode as `\"w\"` (write), or for both reading and writing, by specifying the mode as `\"r+\"` or `\"w+\"`. In addition, you can specify the encoding of the file by adding the encoding parameter to the `open()` function.\n",
    "\n",
    "Here are a few different modes for opening a file:\n",
    "\n",
    "| Mode | Description |\n",
    "|:-:|:--|\n",
    "| `r` | Open file for reading (default) |\n",
    "| `w` | Open file for writing |\n",
    "| `t` | Open file in text mode (default) |\n",
    "| `b` | Open file in binary mode |\n",
    "| `+` | Open file for updating i.e. reading and writing |\n",
    "| `x` | Open file for exclusive creation. Raises `FileExistsError` if file already exists |\n",
    "| `a` | Open file for appending at the end without truncating the content. Creates a new file if it does not exist already |"
   ]
  },
  {
   "cell_type": "code",
   "execution_count": 7,
   "id": "57694d01-b9ae-4a82-88a7-a713dea9cb0b",
   "metadata": {},
   "outputs": [],
   "source": [
    "file = open(\"write.txt\", \"w\")\n",
    "file.write(\"This is a test for writing content into a file!\")\n",
    "file.close()"
   ]
  },
  {
   "cell_type": "markdown",
   "id": "9d96497a-023e-43e6-be17-2073bfffbb33",
   "metadata": {},
   "source": [
    "## dir()\n",
    "\n",
    "In Python, the `dir()` function is used to list all the attributes and methods of an object. It returns a `sorted list` of names in the given object."
   ]
  },
  {
   "cell_type": "code",
   "execution_count": 8,
   "id": "c34eb150-cff6-4701-874d-531a6acbfc8d",
   "metadata": {},
   "outputs": [
    {
     "name": "stdout",
     "output_type": "stream",
     "text": [
      "['__abs__', '__add__', '__and__', '__bool__', '__ceil__', '__class__', '__delattr__', '__dir__', '__divmod__', '__doc__', '__eq__', '__float__', '__floor__', '__floordiv__', '__format__', '__ge__', '__getattribute__', '__getnewargs__', '__getstate__', '__gt__', '__hash__', '__index__', '__init__', '__init_subclass__', '__int__', '__invert__', '__le__', '__lshift__', '__lt__', '__mod__', '__mul__', '__ne__', '__neg__', '__new__', '__or__', '__pos__', '__pow__', '__radd__', '__rand__', '__rdivmod__', '__reduce__', '__reduce_ex__', '__repr__', '__rfloordiv__', '__rlshift__', '__rmod__', '__rmul__', '__ror__', '__round__', '__rpow__', '__rrshift__', '__rshift__', '__rsub__', '__rtruediv__', '__rxor__', '__setattr__', '__sizeof__', '__str__', '__sub__', '__subclasshook__', '__truediv__', '__trunc__', '__xor__', 'as_integer_ratio', 'bit_count', 'bit_length', 'conjugate', 'denominator', 'from_bytes', 'imag', 'is_integer', 'numerator', 'real', 'to_bytes']\n"
     ]
    }
   ],
   "source": [
    "x = 5\n",
    "print(dir(x))"
   ]
  },
  {
   "cell_type": "markdown",
   "id": "46e5d539-cdbc-40da-b267-624d1054f6f9",
   "metadata": {},
   "source": [
    "## enumerate()\n",
    "\n",
    "In Python, the `enumerate()` function used to iterate over a sequence (such as a list or tuple) and return a sequence of tuples containing the index and value of each element in the original sequence."
   ]
  },
  {
   "cell_type": "code",
   "execution_count": 9,
   "id": "4f453750-4251-411c-b6e4-140fc8502b8d",
   "metadata": {},
   "outputs": [
    {
     "name": "stdout",
     "output_type": "stream",
     "text": [
      "0 Alice\n",
      "1 Bob\n",
      "2 Charlie\n"
     ]
    }
   ],
   "source": [
    "names = [\"Alice\", \"Bob\", \"Charlie\"]\n",
    "\n",
    "for i, name in enumerate(names):  # Iterate over the list using enumerate()\n",
    "    print(i, name)"
   ]
  },
  {
   "cell_type": "markdown",
   "id": "f3b410b5-15fb-434c-9cab-1c320c138841",
   "metadata": {},
   "source": [
    "In this example, the `enumerate()` function is used to iterate over the `names` list. For each element in the list, a `tuple` is returned that contains the index and value of the element. The `for` loop then unpacks the tuple into two variables, `i` and `name`, and prints them to the console.\n",
    "\n",
    "Note that the index values start at `0`, which is the index of the first element in the list. If you want to start the index at a different value, you can pass a second argument to the `enumerate()` function that specifies the starting value"
   ]
  },
  {
   "cell_type": "code",
   "execution_count": 10,
   "id": "70b84614-a120-43e8-86db-3b811a04134c",
   "metadata": {},
   "outputs": [
    {
     "name": "stdout",
     "output_type": "stream",
     "text": [
      "1 Alice\n",
      "2 Bob\n",
      "3 Charlie\n"
     ]
    }
   ],
   "source": [
    "# Iterate over the list starting at index 1\n",
    "for i, name in enumerate(names, 1):\n",
    "    print(i, name)"
   ]
  },
  {
   "cell_type": "markdown",
   "id": "bb3eb42e-29eb-4c09-9313-bd5c2e64e5dd",
   "metadata": {},
   "source": [
    "## zip()\n",
    "\n",
    "The `zip()` function in Python is used to combine two or more iterables (e.g., lists or tuples) into a single iterable that returns `tuples` containing the corresponding elements from each input iterable.\n",
    "\n",
    "The general syntax for `zip()` is:\n",
    "\n",
    "```python\n",
    "zip(iterable1, iterable2, ...)\n",
    "```\n",
    "\n",
    "where `iterable1`, `iterable2`, etc. are the iterables to be zipped. The `zip()` function returns an iterator of tuples, where the `i-th` tuple contains the `i-th` element from each of the input iterables. The resulting iterator has as many elements as the shortest input iterable."
   ]
  },
  {
   "cell_type": "code",
   "execution_count": 11,
   "id": "7006e475-b954-426e-aa92-79e322b7776a",
   "metadata": {},
   "outputs": [
    {
     "name": "stdout",
     "output_type": "stream",
     "text": [
      "[(1, 'a'), (2, 'b')]\n"
     ]
    }
   ],
   "source": [
    "list1 = [1, 2, 3]\n",
    "list2 = ['a', 'b']\n",
    "zipped_list = list(zip(list1, list2))\n",
    "print(zipped_list)"
   ]
  },
  {
   "cell_type": "markdown",
   "id": "9881836c-cc69-4e25-b7bd-b20f3a5aec29",
   "metadata": {},
   "source": [
    "## map()\n",
    "\n",
    "The `map()` function in Python applies a given function to each item of an iterable (e.g., a list or a tuple) and returns a new iterable with the transformed items.\n",
    "\n",
    "The general syntax for `map()` is:\n",
    "\n",
    "```python\n",
    "map(function, iterable)\n",
    "```\n",
    "\n",
    "where `function` is the function to be applied to each item in the iterable, and `iterable` is the object to be mapped. The `map()` function returns a map object, which is an iterable of the transformed items. To get a list of the transformed items, you can convert the map object to a list using the `list()` function."
   ]
  },
  {
   "cell_type": "code",
   "execution_count": 12,
   "id": "688627df-b463-43ad-9737-0aae0c0db631",
   "metadata": {},
   "outputs": [
    {
     "name": "stdout",
     "output_type": "stream",
     "text": [
      "[2, 4, 6, 8, 10]\n"
     ]
    }
   ],
   "source": [
    "my_list = [1, 2, 3, 4, 5]\n",
    "doubled_list = list(map(lambda x: x * 2, my_list))\n",
    "print(doubled_list)"
   ]
  },
  {
   "cell_type": "markdown",
   "id": "96fac846-8bb7-46ca-8776-f76c3d1aec4a",
   "metadata": {},
   "source": [
    "In this example, we define a `lambda` function (we'll discuss it in later notebook within the same`Methods and Function` topic). that doubles each number in the list, and then we pass the `lambda` function and the `list` to the `map()` function. The `map()` function applies the `lambda` function to each item in the list and returns a new iterable with the doubled values. Finally, we convert the iterable to a list using the `list()` function.\n",
    "\n",
    "Here's another example that demonstrates how to use `map()` to convert a list of strings to a list of integer"
   ]
  },
  {
   "cell_type": "code",
   "execution_count": 13,
   "id": "eaa89898-77a8-413d-a5f6-bd95ea490a07",
   "metadata": {},
   "outputs": [
    {
     "name": "stdout",
     "output_type": "stream",
     "text": [
      "[1, 2, 3, 4, 5]\n"
     ]
    }
   ],
   "source": [
    "string_list = [\"1\", \"2\", \"3\", \"4\", \"5\"]\n",
    "int_list = list(map(int, string_list))\n",
    "print(int_list)"
   ]
  },
  {
   "cell_type": "markdown",
   "id": "aaedd39f-b122-40c9-b8fb-25eb2ea94235",
   "metadata": {},
   "source": [
    "## reduce()\n",
    "\n",
    "The `reduce()` function in Python is used to apply a given function to the items of an iterable (e.g., a list or a tuple) in a cumulative way, that is, it applies the function to the first two elements, then to the result and the next element, and so on, until all the items have been processed. The general syntax for `reduce()` is:\n",
    "\n",
    "```python\n",
    "reduce(function, iterable[, initializer])\n",
    "```\n",
    "\n",
    "where `function` is the function to be applied cumulatively to the items of the iterable, and `initializer` is an optional initial value to be used as the starting point of the cumulative computation. If `initializer` is not provided, the first two elements of the iterable are used as the initial values.\n",
    "\n",
    "Here's an example that demonstrates how to use `reduce()` to compute the product of all the elements in a list:"
   ]
  },
  {
   "cell_type": "code",
   "execution_count": 14,
   "id": "707c7912-421a-446d-ae7c-8b7726e8da27",
   "metadata": {},
   "outputs": [
    {
     "name": "stdout",
     "output_type": "stream",
     "text": [
      "120\n"
     ]
    }
   ],
   "source": [
    "from functools import reduce\n",
    "\n",
    "my_list = [1, 2, 3, 4, 5]\n",
    "product = reduce(lambda x, y: x * y, my_list)\n",
    "print(product)"
   ]
  },
  {
   "cell_type": "markdown",
   "id": "9b58ec82-5a5e-4bca-bbc3-513ea1456475",
   "metadata": {},
   "source": [
    "## filter()\n",
    "\n",
    "The `filter()` function in Python is used to filter an iterable (e.g., a list or a tuple) based on a given condition. It takes two arguments: a `function` that specifies the condition, and an `iterable` to be filtered. The function returns an iterator that contains the elements from the iterable that satisfy the condition specified by the function. The general syntax for `filter()` is:\n",
    "\n",
    "```python\n",
    "filter(function, iterable)\n",
    "```\n",
    "\n",
    "Here's an example that demonstrates how to use `filter()` to filter out the odd numbers from a list of integers:"
   ]
  },
  {
   "cell_type": "code",
   "execution_count": 15,
   "id": "0b275292-11ed-412f-b9f4-33c15ca3ab6d",
   "metadata": {},
   "outputs": [
    {
     "name": "stdout",
     "output_type": "stream",
     "text": [
      "[2, 4, 6, 8]\n"
     ]
    }
   ],
   "source": [
    "my_list = [1, 2, 3, 4, 5, 6, 7, 8, 9]\n",
    "filtered_list = list(filter(lambda x: x % 2 == 0, my_list))\n",
    "print(filtered_list)"
   ]
  },
  {
   "cell_type": "markdown",
   "id": "8a8c9110-07cf-4431-be48-486bbfc1ff67",
   "metadata": {},
   "source": [
    "In this example, we pass a `lambda` function that checks if its argument is even to the `filter()` function along with a list of numbers. The `filter()` function applies the `lambda` function to each element of the list and returns an iterator that contains only the even numbers. Finally, we convert the iterator to a list using the `list()` function.\n",
    "\n",
    "Here's another example that demonstrates how to use `filter()` to filter out the empty strings from a list of strings:"
   ]
  },
  {
   "cell_type": "code",
   "execution_count": 16,
   "id": "6f6b2ed6-748a-4cc9-9040-f18d5d6765aa",
   "metadata": {},
   "outputs": [
    {
     "name": "stdout",
     "output_type": "stream",
     "text": [
      "['spam', 'eggs', 'spam']\n"
     ]
    }
   ],
   "source": [
    "my_list = ['', 'spam', '', 'eggs', '', 'spam']\n",
    "filtered_list = list(filter(lambda x: x != '', my_list))\n",
    "print(filtered_list)"
   ]
  }
 ],
 "metadata": {
  "kernelspec": {
   "display_name": "Python 3 (ipykernel)",
   "language": "python",
   "name": "python3"
  },
  "language_info": {
   "codemirror_mode": {
    "name": "ipython",
    "version": 3
   },
   "file_extension": ".py",
   "mimetype": "text/x-python",
   "name": "python",
   "nbconvert_exporter": "python",
   "pygments_lexer": "ipython3",
   "version": "3.12.0"
  }
 },
 "nbformat": 4,
 "nbformat_minor": 5
}

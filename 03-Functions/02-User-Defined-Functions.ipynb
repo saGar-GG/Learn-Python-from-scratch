{
 "cells": [
  {
   "cell_type": "markdown",
   "id": "5eeb42c1-8ab4-458f-ba40-0aaeca9bc84d",
   "metadata": {},
   "source": [
    "# Python Functions\n",
    "\n",
    "A function is a block of reusable code that performs a specific task. A function can take one or more arguments as input, perform some operations on the input, and then return a value as output. Here's the general syntax for defining a function in Python:\n",
    "\n",
    "```python\n",
    "def function_name(parameter1, parameter2, ...):\n",
    "    # Function body\n",
    "    return output_value\n",
    "```\n",
    "\n",
    "In this syntax, `def` is the keyword used to define a function, `function_name` is the name of the function, and `parameter1`, `parameter2`, etc. are the input parameters of the function. The `return` keyword is used to specify the output value of the function.\n",
    "\n",
    "Here's an example that demonstrates how to define a function that computes the sum of two numbers:"
   ]
  },
  {
   "cell_type": "code",
   "execution_count": 1,
   "id": "d2ea14f7-213d-4352-8886-26caeb77fd09",
   "metadata": {},
   "outputs": [
    {
     "name": "stdout",
     "output_type": "stream",
     "text": [
      "8\n"
     ]
    }
   ],
   "source": [
    "def add_numbers(a, b):\n",
    "    sum = a + b\n",
    "    return sum\n",
    "\n",
    "result = add_numbers(3, 5)\n",
    "print(result)"
   ]
  },
  {
   "cell_type": "markdown",
   "id": "2cea4edb-d6e5-4e22-b7b3-ff6c4ee3da90",
   "metadata": {},
   "source": [
    "In this example, we define a function called `add_numbers` that takes two input parameters `a` and `b`, computes their sum, and returns the result. We then call the function with arguments `3` and `5` and store the result in a variable called `result`. Finally, we print the value of result.\n",
    "\n",
    "Functions in Python can also have optional parameters with default values, which allows the caller to omit certain arguments if they are not needed. Here's an example that demonstrates how to define a function with optional parameters:"
   ]
  },
  {
   "cell_type": "code",
   "execution_count": 2,
   "id": "d13f68e2-cfe5-487d-8afc-204e33201b81",
   "metadata": {},
   "outputs": [
    {
     "name": "stdout",
     "output_type": "stream",
     "text": [
      "Hello, Alice!\n",
      "Hi, Bob!\n"
     ]
    }
   ],
   "source": [
    "def greet(name, greeting='Hello'):\n",
    "    message = f\"{greeting}, {name}!\"\n",
    "    return message\n",
    "\n",
    "print(greet('Alice'))\n",
    "print(greet('Bob', 'Hi'))"
   ]
  },
  {
   "cell_type": "markdown",
   "id": "954bbf83-21e4-498d-8178-27afceed5988",
   "metadata": {},
   "source": [
    "In this example, we define a function called `greet` that takes an input parameter `name` and an optional parameter `greeting` with a default value of `'Hello'`. The function returns a greeting message that includes the `name` and the `greeting`. We then call the function with only the name argument in the first case, and with both name and greeting arguments in the second case.\n",
    "\n",
    "Functions in Python can also have variable-length argument lists. These are called `*args` and `**kwargs`, and they allow the function to accept any number of arguments and keyword arguments, respectively. Here's an example that demonstrates how to define a function with variable-length argument lists:"
   ]
  },
  {
   "cell_type": "code",
   "execution_count": 3,
   "id": "ae1160f9-199c-4822-91b2-c3fb7ae1c267",
   "metadata": {},
   "outputs": [
    {
     "name": "stdout",
     "output_type": "stream",
     "text": [
      "Positional arguments:\n",
      "1\n",
      "hello\n",
      "Keyword arguments:\n",
      "name = Alice\n",
      "age = 30\n"
     ]
    }
   ],
   "source": [
    "def print_arguments(*args, **kwargs):\n",
    "    print(\"Positional arguments:\")\n",
    "    for arg in args:\n",
    "        print(arg)\n",
    "    print(\"Keyword arguments:\")\n",
    "    for key, value in kwargs.items():\n",
    "        print(key, \"=\", value)\n",
    "\n",
    "print_arguments(1, 'hello', name='Alice', age=30)"
   ]
  },
  {
   "cell_type": "markdown",
   "id": "47c3a428-6767-48e0-b439-d70344ea2741",
   "metadata": {},
   "source": [
    "In this example, we define a function called `print_arguments that accepts a variable number of positional arguments (*args) and keyword arguments (**kwargs). The function then prints the positional and keyword arguments to the console.\n",
    "\n",
    "When we call the function with arguments 1, 'hello', name='Alice', and age=30, the function prints the positional arguments 1 and 'hello', and the keyword arguments name='Alice' and age=30'."
   ]
  }
 ],
 "metadata": {
  "kernelspec": {
   "display_name": "Python 3 (ipykernel)",
   "language": "python",
   "name": "python3"
  },
  "language_info": {
   "codemirror_mode": {
    "name": "ipython",
    "version": 3
   },
   "file_extension": ".py",
   "mimetype": "text/x-python",
   "name": "python",
   "nbconvert_exporter": "python",
   "pygments_lexer": "ipython3",
   "version": "3.12.0"
  }
 },
 "nbformat": 4,
 "nbformat_minor": 5
}
